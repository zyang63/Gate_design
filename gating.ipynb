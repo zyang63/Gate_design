{
  "nbformat": 4,
  "nbformat_minor": 0,
  "metadata": {
    "colab": {
      "provenance": [],
      "collapsed_sections": [
        "adShk6XI0xfz",
        "UUbtJO572LnW"
      ],
      "authorship_tag": "ABX9TyOLgR0ClJm3HYl9h6pcPiGw",
      "include_colab_link": true
    },
    "kernelspec": {
      "name": "python3",
      "display_name": "Python 3"
    },
    "language_info": {
      "name": "python"
    },
    "widgets": {
      "application/vnd.jupyter.widget-state+json": {
        "a46590f1c0aa4e27b6d48cd128ce9746": {
          "model_module": "@jupyter-widgets/controls",
          "model_name": "ButtonModel",
          "model_module_version": "2.0.0",
          "state": {
            "_dom_classes": [],
            "_model_module": "@jupyter-widgets/controls",
            "_model_module_version": "2.0.0",
            "_model_name": "ButtonModel",
            "_view_count": null,
            "_view_module": "@jupyter-widgets/controls",
            "_view_module_version": "2.0.0",
            "_view_name": "ButtonView",
            "button_style": "",
            "description": "Google upload dialog",
            "disabled": false,
            "icon": "",
            "layout": "IPY_MODEL_10938d8ec13c43f0b09fe9f73246ab96",
            "style": "IPY_MODEL_6919a2c185884c23926fa5fa363766d5",
            "tabbable": null,
            "tooltip": null
          }
        },
        "10938d8ec13c43f0b09fe9f73246ab96": {
          "model_module": "@jupyter-widgets/base",
          "model_name": "LayoutModel",
          "model_module_version": "2.0.0",
          "state": {
            "_model_module": "@jupyter-widgets/base",
            "_model_module_version": "2.0.0",
            "_model_name": "LayoutModel",
            "_view_count": null,
            "_view_module": "@jupyter-widgets/base",
            "_view_module_version": "2.0.0",
            "_view_name": "LayoutView",
            "align_content": null,
            "align_items": null,
            "align_self": null,
            "border_bottom": null,
            "border_left": null,
            "border_right": null,
            "border_top": null,
            "bottom": null,
            "display": null,
            "flex": null,
            "flex_flow": null,
            "grid_area": null,
            "grid_auto_columns": null,
            "grid_auto_flow": null,
            "grid_auto_rows": null,
            "grid_column": null,
            "grid_gap": null,
            "grid_row": null,
            "grid_template_areas": null,
            "grid_template_columns": null,
            "grid_template_rows": null,
            "height": null,
            "justify_content": null,
            "justify_items": null,
            "left": null,
            "margin": null,
            "max_height": null,
            "max_width": null,
            "min_height": null,
            "min_width": null,
            "object_fit": null,
            "object_position": null,
            "order": null,
            "overflow": null,
            "padding": null,
            "right": null,
            "top": null,
            "visibility": null,
            "width": null
          }
        },
        "6919a2c185884c23926fa5fa363766d5": {
          "model_module": "@jupyter-widgets/controls",
          "model_name": "ButtonStyleModel",
          "model_module_version": "2.0.0",
          "state": {
            "_model_module": "@jupyter-widgets/controls",
            "_model_module_version": "2.0.0",
            "_model_name": "ButtonStyleModel",
            "_view_count": null,
            "_view_module": "@jupyter-widgets/base",
            "_view_module_version": "2.0.0",
            "_view_name": "StyleView",
            "button_color": null,
            "font_family": null,
            "font_size": null,
            "font_style": null,
            "font_variant": null,
            "font_weight": null,
            "text_color": null,
            "text_decoration": null
          }
        },
        "072d5361bb4a487b9e5d3bd625746fed": {
          "model_module": "@jupyter-widgets/output",
          "model_name": "OutputModel",
          "model_module_version": "1.0.0",
          "state": {
            "_dom_classes": [],
            "_model_module": "@jupyter-widgets/output",
            "_model_module_version": "1.0.0",
            "_model_name": "OutputModel",
            "_view_count": null,
            "_view_module": "@jupyter-widgets/output",
            "_view_module_version": "1.0.0",
            "_view_name": "OutputView",
            "layout": "IPY_MODEL_0ff1b6f0f13f407d9fb0abf73ddf4ea3",
            "msg_id": "",
            "outputs": [],
            "tabbable": null,
            "tooltip": null
          }
        },
        "0ff1b6f0f13f407d9fb0abf73ddf4ea3": {
          "model_module": "@jupyter-widgets/base",
          "model_name": "LayoutModel",
          "model_module_version": "2.0.0",
          "state": {
            "_model_module": "@jupyter-widgets/base",
            "_model_module_version": "2.0.0",
            "_model_name": "LayoutModel",
            "_view_count": null,
            "_view_module": "@jupyter-widgets/base",
            "_view_module_version": "2.0.0",
            "_view_name": "LayoutView",
            "align_content": null,
            "align_items": null,
            "align_self": null,
            "border_bottom": null,
            "border_left": null,
            "border_right": null,
            "border_top": null,
            "bottom": null,
            "display": null,
            "flex": null,
            "flex_flow": null,
            "grid_area": null,
            "grid_auto_columns": null,
            "grid_auto_flow": null,
            "grid_auto_rows": null,
            "grid_column": null,
            "grid_gap": null,
            "grid_row": null,
            "grid_template_areas": null,
            "grid_template_columns": null,
            "grid_template_rows": null,
            "height": null,
            "justify_content": null,
            "justify_items": null,
            "left": null,
            "margin": null,
            "max_height": null,
            "max_width": null,
            "min_height": null,
            "min_width": null,
            "object_fit": null,
            "object_position": null,
            "order": null,
            "overflow": null,
            "padding": null,
            "right": null,
            "top": null,
            "visibility": null,
            "width": null
          }
        }
      }
    }
  },
  "cells": [
    {
      "cell_type": "markdown",
      "metadata": {
        "id": "view-in-github",
        "colab_type": "text"
      },
      "source": [
        "<a href=\"https://colab.research.google.com/github/zyang63/Gate_design/blob/main/gating.ipynb\" target=\"_parent\"><img src=\"https://colab.research.google.com/assets/colab-badge.svg\" alt=\"Open In Colab\"/></a>"
      ]
    },
    {
      "cell_type": "markdown",
      "metadata": {
        "id": "adShk6XI0xfz"
      },
      "source": [
        "# Geometric Analysis in Google Colab\n"
      ]
    },
    {
      "cell_type": "markdown",
      "source": [
        "The code installs and imports several libraries for different purposes. The trimesh library is installed to work with triangular meshes, SimpleITK is installed for medical image analysis, scipy is installed for scientific computing, and bpy is installed for 3D modeling and rendering. The directory \"geometry\" is created to store the various stl files generated by the analysis. The result of the code is stored in the base directory and produces three \"gltf\" animations which can be downloaded and reviewed."
      ],
      "metadata": {
        "id": "nPJAMg4xHzBu"
      }
    },
    {
      "cell_type": "code",
      "execution_count": 1,
      "metadata": {
        "id": "8q4DTwrsMGNB"
      },
      "outputs": [],
      "source": [
        "%%capture\n",
        "try:\n",
        "  import open3d as o3d\n",
        "except ImportError:\n",
        "  !pip install open3d\n",
        "  import open3d as o3d\n",
        "try:\n",
        "  import SimpleITK as sitk\n",
        "except ImportError:\n",
        "  !pip install SimpleITK\n",
        "  import SimpleITK as sitk\n",
        "try:\n",
        "  import bpy\n",
        "except ImportError:\n",
        "  !pip install bpy\n",
        "  import bpy\n",
        "try:\n",
        "  from stl import mesh\n",
        "except ImportError:\n",
        "  !pip install numpy-stl\n",
        "  from stl import mesh\n",
        "try:\n",
        "  import pyvista as pv\n",
        "except ImportError:\n",
        "  !pip install pyvista\n",
        "  import pyvista as pv\n",
        "import numpy as np\n",
        "from scipy import ndimage\n",
        "from skimage import measure\n",
        "import os"
      ]
    },
    {
      "cell_type": "markdown",
      "source": [
        "#Setup"
      ],
      "metadata": {
        "id": "EF7fn9CRHmoQ"
      }
    },
    {
      "cell_type": "code",
      "source": [
        "import ipywidgets as widgets\n",
        "from IPython.display import display\n",
        "from google.colab import files\n",
        "#@title #File Entry { display-mode: \"form\"}\n",
        "#@markdown User can choose to upload the file to colab directly or select the google file upload button at the bottom of this form. Also choose the number of elements.\n",
        "\n",
        "button_pressed = False  # Initialize the variable as False\n",
        "filename = \"\"\n",
        "button = widgets.Button(description=\"Google upload dialog\")\n",
        "output = widgets.Output()\n",
        "\n",
        "def on_button_clicked(b):\n",
        "    global button_pressed  # Access the global variable\n",
        "    global filename\n",
        "    with output:\n",
        "        uploaded = files.upload()\n",
        "        filename = list(uploaded.keys())[0]\n",
        "        button_pressed = True  # Set the variable to True when the button is clicked\n",
        "\n",
        "button.on_click(on_button_clicked)\n",
        "display(button, output)"
      ],
      "metadata": {
        "colab": {
          "base_uri": "https://localhost:8080/",
          "height": 49,
          "referenced_widgets": [
            "a46590f1c0aa4e27b6d48cd128ce9746",
            "10938d8ec13c43f0b09fe9f73246ab96",
            "6919a2c185884c23926fa5fa363766d5",
            "072d5361bb4a487b9e5d3bd625746fed",
            "0ff1b6f0f13f407d9fb0abf73ddf4ea3"
          ]
        },
        "id": "EJvJHDA0P_AZ",
        "outputId": "caed06cb-ab7a-412e-f108-d34532b06d4b"
      },
      "execution_count": 2,
      "outputs": [
        {
          "output_type": "display_data",
          "data": {
            "text/plain": [
              "Button(description='Google upload dialog', style=ButtonStyle())"
            ],
            "application/vnd.jupyter.widget-view+json": {
              "version_major": 2,
              "version_minor": 0,
              "model_id": "a46590f1c0aa4e27b6d48cd128ce9746"
            }
          },
          "metadata": {}
        },
        {
          "output_type": "display_data",
          "data": {
            "text/plain": [
              "Output()"
            ],
            "application/vnd.jupyter.widget-view+json": {
              "version_major": 2,
              "version_minor": 0,
              "model_id": "072d5361bb4a487b9e5d3bd625746fed"
            }
          },
          "metadata": {}
        }
      ]
    },
    {
      "cell_type": "code",
      "execution_count": 3,
      "metadata": {
        "id": "3YVaKHTqXBfQ",
        "colab": {
          "base_uri": "https://localhost:8080/"
        },
        "outputId": "5d8a3edf-5f65-465e-fdeb-9b555f6643f9"
      },
      "outputs": [
        {
          "output_type": "stream",
          "name": "stdout",
          "text": [
            "151.66339111328125\n",
            "File used  /content/steering_column_mount.stl\n",
            "Element size is in units from stl file  0.7583169555664062  per cell\n"
          ]
        }
      ],
      "source": [
        "#@title #Element Count { display-mode: \"form\", run: \"auto\" }\n",
        "element_count = 200 #@param {type:\"slider\", min:10, max:500, step:1}\n",
        "if not button_pressed:\n",
        "  filename = \"/content/steering_column_mount.stl\" #@param {type:\"string\"}\n",
        "geometry = o3d.io.read_triangle_mesh(filename)\n",
        "max_boundary_size = (geometry.get_max_bound()-geometry.get_min_bound()).max()\n",
        "print(max_boundary_size)\n",
        "voxel_resolution = max_boundary_size/element_count\n",
        "print(\"File used \", filename)\n",
        "print(\"Element size is in units from stl file \",voxel_resolution, \" per cell\")"
      ]
    },
    {
      "cell_type": "markdown",
      "metadata": {
        "id": "UUbtJO572LnW"
      },
      "source": [
        "# Voxelizing the geometry\n"
      ]
    },
    {
      "cell_type": "markdown",
      "source": [
        "The following code performs voxelization and mesh conversion operations. It starts by voxelizing a mesh with a specified voxel size. Then, it creates a solid voxel representation by filling the voxel surface. The solid voxel data is padded with two layers of zeros. The padded voxel data is further processed using marching cubes algorithm to obtain a mesh representation. Finally, the resulting mesh is exported as an STL file named \"marching_geometry.stl\" in the geometry directory."
      ],
      "metadata": {
        "id": "nIgMiNiqR8qT"
      }
    },
    {
      "cell_type": "code",
      "execution_count": 4,
      "metadata": {
        "id": "IHtN4C3ggN4u"
      },
      "outputs": [],
      "source": [
        "pcd = geometry.sample_points_uniformly(number_of_points=100000000)\n",
        "voxel_grid = o3d.geometry.VoxelGrid.create_from_point_cloud(pcd,voxel_size=voxel_resolution)\n",
        "voxels = voxel_grid.get_voxels()\n",
        "indices = np.stack(list(vx.grid_index for vx in voxels))\n",
        "del voxels, voxel_grid, pcd\n",
        "max_indices = np.max(indices, axis=0)+1\n",
        "dense_array = np.zeros(max_indices, dtype=np.bool8)\n",
        "for idx in indices:\n",
        "    dense_array[tuple(idx)] = 1\n",
        "del indices\n",
        "array_pad = np.pad(dense_array.astype(bool),((2,2)),'constant')\n",
        "del dense_array\n",
        "array_closing = ndimage.binary_closing(array_pad, structure=ndimage.generate_binary_structure(3, 1), iterations=1, mask=None,  border_value=0, origin=0, brute_force=False)\n",
        "img = sitk.GetImageFromArray(array_closing.astype(int))\n",
        "seg = sitk.ConnectedComponent(img != img[0,0,0])\n",
        "img_filled = sitk.BinaryFillhole(seg!=0)\n",
        "array_filled = sitk.GetArrayFromImage(img_filled)\n",
        "verts, faces, _, _ = measure.marching_cubes(array_filled)\n",
        "vertices_original = np.asarray(verts.tolist())\n",
        "faces_original = np.asarray(faces.tolist())"
      ]
    },
    {
      "cell_type": "markdown",
      "metadata": {
        "id": "ZrrWLNVN5pIN"
      },
      "source": [
        "# Morphological operations and Distance transform on mesh\n"
      ]
    },
    {
      "cell_type": "markdown",
      "source": [
        "The following code applies binary closing to a padded voxel data array and assigns the result to array_initial for further use. It then defines a function named core that performs operations to extract the core of a structure from an input array. The function is applied to array_initial, and the resulting array is assigned to array_core. The code further manipulates array_core by setting non-core elements to 0 and core elements to 1. Overall, these operations help identify and isolate the core of a structure within the voxel data."
      ],
      "metadata": {
        "id": "0SGC0LudSBSM"
      }
    },
    {
      "cell_type": "code",
      "execution_count": 5,
      "metadata": {
        "id": "RsgYjTCL-VnP"
      },
      "outputs": [],
      "source": [
        "array_initial = ndimage.binary_closing(array_filled, structure=ndimage.generate_binary_structure(3, 1), iterations=1, mask=None,  border_value=0, origin=0, brute_force=False)\n",
        "img_initial = sitk.GetImageFromArray(array_initial.astype(int))"
      ]
    },
    {
      "cell_type": "markdown",
      "metadata": {
        "id": "9L2hysgHwZpJ"
      },
      "source": [
        "## Distance Field Calculation\n",
        "The following code calculates the signed Maurer distance map from a binary voxel data representation. The distance map is computed using the SignedMaurerDistanceMap function from the SimpleITK library. The resulting distance map is then converted into a NumPy array. The code further determines the depth of the object by taking the negative minimum value from the distance map and converting it to an integer. This depth value represents the distance inside the object. Overall, these operations provide information about the spatial distribution and depth of the object in the voxel data."
      ]
    },
    {
      "cell_type": "code",
      "execution_count": 6,
      "metadata": {
        "id": "TYNZE7N0Q7pt",
        "colab": {
          "base_uri": "https://localhost:8080/"
        },
        "outputId": "9fb612e1-b87b-435e-8215-eb934c8957fd"
      },
      "outputs": [
        {
          "output_type": "stream",
          "name": "stdout",
          "text": [
            "9\n"
          ]
        }
      ],
      "source": [
        "img_dist = sitk.SignedMaurerDistanceMap(img_initial != 0, insideIsPositive=False, squaredDistance=False, useImageSpacing=False)\n",
        "array_dist = sitk.GetArrayFromImage(img_dist)\n",
        "depth = int(-array_dist.min())\n",
        "print(depth)"
      ]
    },
    {
      "cell_type": "markdown",
      "source": [
        "## Parting Line Analysis"
      ],
      "metadata": {
        "id": "_CLCaJriHaKo"
      }
    },
    {
      "cell_type": "code",
      "source": [
        "def sum_3d_array_along_height(input_array):\n",
        "    height, rows, cols = input_array.shape\n",
        "    result_array = np.sum(input_array, axis=2)\n",
        "\n",
        "    return result_array\n",
        "def find_edge(array):\n",
        "    rows, cols = array.shape\n",
        "    output = np.zeros((rows, cols), dtype=int)\n",
        "\n",
        "    for i in range(rows):\n",
        "        for j in range(cols):\n",
        "            if array[i, j] != 0:\n",
        "                if (i == 0 or array[i - 1, j] == 0) or \\\n",
        "                   (i == rows - 1 or array[i + 1, j] == 0) or \\\n",
        "                   (j == 0 or array[i, j - 1] == 0) or \\\n",
        "                   (j == cols - 1 or array[i, j + 1] == 0):\n",
        "                    output[i, j] = 1\n",
        "\n",
        "    return output"
      ],
      "metadata": {
        "id": "XfL55FEskpjZ"
      },
      "execution_count": 7,
      "outputs": []
    },
    {
      "cell_type": "code",
      "source": [
        "def find_overlap_3d_2d(arr_3d, arr_2d):\n",
        "    overlap_arr = np.logical_and(arr_3d, arr_2d[:, :, np.newaxis]).astype(int)\n",
        "    return overlap_arr"
      ],
      "metadata": {
        "id": "pHsYxj8bk4nf"
      },
      "execution_count": 8,
      "outputs": []
    },
    {
      "cell_type": "code",
      "source": [
        "def extract_max_ones_layers(arr_3d):\n",
        "    rows, cols, height = arr_3d.shape\n",
        "    # Sum along the (rows, cols) axes to count the number of ones in each layer\n",
        "    ones_count = np.sum(arr_3d, axis=(0, 1))\n",
        "\n",
        "    # Find the maximum ones count\n",
        "    max_ones_count = np.max(ones_count)\n",
        "\n",
        "    # Find the indices of the layers with the maximum ones count\n",
        "    layer_indices = np.where(ones_count == max_ones_count)[0]\n",
        "\n",
        "    # Create a new 3D array with the same shape as the input array\n",
        "    result_arr = np.zeros_like(arr_3d)\n",
        "\n",
        "    # Set the layers with the maximum ones to the result array\n",
        "    result_arr[:, :, layer_indices] = arr_3d[:, :, layer_indices]\n",
        "\n",
        "    # Find the median layer index\n",
        "    #median_layer_index = np.median(layer_indices).astype(int)\n",
        "\n",
        "    # Create a new 3D array containing only the median layer\n",
        "    #median_layer_arr = np.zeros_like(arr_3d)\n",
        "    #median_layer_arr[:, :, median_layer_index] = arr_3d[:, :, median_layer_index]\n",
        "\n",
        "    return result_arr"
      ],
      "metadata": {
        "id": "ywFu1Zsfaqep"
      },
      "execution_count": 9,
      "outputs": []
    },
    {
      "cell_type": "code",
      "source": [
        "# Step 1\n",
        "S = sum_3d_array_along_height(array_filled)\n",
        "B = find_edge(S)\n",
        "N = find_overlap_3d_2d(array_filled, B)\n",
        "C = extract_max_ones_layers(N)\n",
        "# Step 2\n",
        "T = find_edge(S)\n",
        "P = np.zeros_like(T)\n",
        "M = np.zeros_like(C)\n",
        "sum_P = np.count_nonzero(P == 1)\n",
        "U = T - P\n",
        "sum_U = np.count_nonzero(U == 1)\n",
        "#print(sum_U)\n",
        "last_sum_U = None\n",
        "\n",
        "while sum_U >= 0:\n",
        "    V = find_overlap_3d_2d(N, U)\n",
        "    L = extract_max_ones_layers(V)\n",
        "    M = np.where(L == 1, 1, M)\n",
        "    H = sum_3d_array_along_height(L)\n",
        "    I = find_edge(H)\n",
        "    P = np.where(I == 1, 1, P)\n",
        "    sum_P = np.count_nonzero(P == 1)\n",
        "    #print(sum_P)\n",
        "\n",
        "    U = np.where(P == 1, 0, T)\n",
        "    sum_U = np.count_nonzero(U == 1)\n",
        "    #print(sum_U)\n",
        "\n",
        "    if last_sum_U == sum_U:\n",
        "        break\n",
        "\n",
        "    last_sum_U = sum_U"
      ],
      "metadata": {
        "id": "51CfEtvNzF-D"
      },
      "execution_count": 10,
      "outputs": []
    },
    {
      "cell_type": "code",
      "source": [
        "# Step 1: Count values for each layer\n",
        "layer_counts = np.sum(M, axis=(0, 1))\n",
        "\n",
        "# Step 2: Replace values based on count number\n",
        "unique_counts, count_occurrences = np.unique(layer_counts, return_counts=True)\n",
        "sorted_indices = np.argsort(count_occurrences)[::-1]\n",
        "\n",
        "for i, count in enumerate(unique_counts[sorted_indices]):\n",
        "    indices_to_replace = np.where(layer_counts == count)[0]\n",
        "\n",
        "    for index in indices_to_replace:\n",
        "        M[:, :, index][M[:, :, index] == 1] = i + 1"
      ],
      "metadata": {
        "id": "GoKcLkettFqg"
      },
      "execution_count": 11,
      "outputs": []
    },
    {
      "cell_type": "code",
      "source": [
        "print(M.max())"
      ],
      "metadata": {
        "colab": {
          "base_uri": "https://localhost:8080/"
        },
        "id": "dpLWdDERB2Gp",
        "outputId": "be9982cb-ec0f-4deb-eea5-f946ddb3f4cb"
      },
      "execution_count": 12,
      "outputs": [
        {
          "output_type": "stream",
          "name": "stdout",
          "text": [
            "9\n"
          ]
        }
      ]
    },
    {
      "cell_type": "markdown",
      "metadata": {
        "id": "caRURaCpwrJk"
      },
      "source": [
        "# Gate located\n"
      ]
    },
    {
      "cell_type": "code",
      "execution_count": 13,
      "metadata": {
        "id": "RJ7VwBlt1UQc"
      },
      "outputs": [],
      "source": [
        "img_thresh = img_filled != 0\n",
        "img_ws = sitk.MorphologicalWatershed( img_dist, markWatershedLine=True, level=1)\n",
        "img_ws = sitk.Cast(img_ws, img_thresh.GetPixelID())\n",
        "img_ws_mark = sitk.Mask(img_ws, img_thresh)\n",
        "array_ws_mark = sitk.GetArrayFromImage(img_ws_mark)"
      ]
    },
    {
      "cell_type": "code",
      "source": [
        "A = array_ws_mark.max()\n",
        "print(A)"
      ],
      "metadata": {
        "colab": {
          "base_uri": "https://localhost:8080/"
        },
        "id": "lYudivqYqyZA",
        "outputId": "42be9c8e-0c26-4484-a445-00a4258ed790"
      },
      "execution_count": 14,
      "outputs": [
        {
          "output_type": "stream",
          "name": "stdout",
          "text": [
            "17\n"
          ]
        }
      ]
    },
    {
      "cell_type": "code",
      "source": [
        "counts = np.zeros(A, dtype=int)\n",
        "\n",
        "for i in range(1, A + 1):\n",
        "    counts[i - 1] = np.count_nonzero(array_ws_mark == i)\n",
        "\n",
        "print(\"Counts for values :\", counts)\n"
      ],
      "metadata": {
        "colab": {
          "base_uri": "https://localhost:8080/"
        },
        "id": "DR2uiFR3r8KA",
        "outputId": "11891a26-12df-4d85-e0d4-ddc848464a42"
      },
      "execution_count": 15,
      "outputs": [
        {
          "output_type": "stream",
          "name": "stdout",
          "text": [
            "Counts for values : [  5237   5251   6027   9004  20712  21518 104566  15867  99472  37783\n",
            "  38099  16763  16502  17755  13856   5145  13286]\n"
          ]
        }
      ]
    },
    {
      "cell_type": "code",
      "source": [
        "unit = 0.01\n",
        "injection_speed = 30.5 # m/s\n",
        "injection_time = 0.5 #s\n",
        "gate_size = np.array(((counts * ((voxel_resolution * unit) **3))/(injection_speed * injection_time)))\n",
        "print(gate_size)"
      ],
      "metadata": {
        "colab": {
          "base_uri": "https://localhost:8080/"
        },
        "id": "hz891jNoFlCU",
        "outputId": "67284f92-2acb-43c6-d137-5528e8c5cd32"
      },
      "execution_count": 16,
      "outputs": [
        {
          "output_type": "stream",
          "name": "stdout",
          "text": [
            "[0.00014975 0.00015015 0.00017234 0.00025746 0.00059225 0.0006153\n",
            " 0.00299001 0.00045371 0.00284435 0.00108039 0.00108942 0.00047933\n",
            " 0.00047187 0.0005077  0.00039621 0.00014712 0.00037991]\n"
          ]
        }
      ]
    },
    {
      "cell_type": "code",
      "source": [
        "# Find coordinates of the minimum value in distance field\n",
        "def find_coordinates(array_dist):\n",
        "    indices = np.nonzero(array_dist == array_dist.min())\n",
        "    if indices[0].size == 0:\n",
        "          return None\n",
        "    return indices[0][0], indices[1][0], indices[2][0]"
      ],
      "metadata": {
        "id": "uTQ46Gwarx4X"
      },
      "execution_count": 17,
      "outputs": []
    },
    {
      "cell_type": "code",
      "source": [
        "origin = geometry.get_min_bound()"
      ],
      "metadata": {
        "id": "IwCsZn4lBzak"
      },
      "execution_count": 18,
      "outputs": []
    },
    {
      "cell_type": "code",
      "source": [
        "def find_closest_nonzero_element(array_1, array_2, target_value):\n",
        "    # Find the coordinates of the target_value in array_1\n",
        "    target_coords = np.argwhere(array_1 == target_value)\n",
        "    if not target_coords.size:\n",
        "        return None  # Target value not found in array_1\n",
        "\n",
        "    target_coords = target_coords[0]  # Use the first occurrence if there are multiple\n",
        "\n",
        "    # Create a boolean mask for non-zero elements in array_2\n",
        "    nonzero_mask = (array_2 != 0)\n",
        "\n",
        "    # Calculate the Euclidean distance between target_coords and all non-zero elements in array_2\n",
        "    distances = np.linalg.norm(np.argwhere(nonzero_mask) - target_coords, axis=1)\n",
        "\n",
        "    # Find the index of the minimum distance\n",
        "    min_distance_index = np.argmin(distances)\n",
        "\n",
        "    # Get the coordinates of the closest non-zero element\n",
        "    closest_coords = tuple(np.argwhere(nonzero_mask)[min_distance_index])\n",
        "\n",
        "    return closest_coords"
      ],
      "metadata": {
        "id": "a5EV1G4A1Vli"
      },
      "execution_count": 19,
      "outputs": []
    },
    {
      "cell_type": "code",
      "source": [
        "E_list = []\n",
        "X_list = []\n",
        "coordinates = []\n",
        "G = array_ws_mark.max() + 1\n",
        "# Loop through all pairs of bounding boxes and check if they intersect\n",
        "for i in range(1, G):\n",
        "  F_i = np.where(array_ws_mark != i, 0, array_ws_mark)\n",
        "  dilated_array_i = ndimage.binary_dilation(F_i, structure=ndimage.generate_binary_structure(3, 1)).astype(F_i.dtype)\n",
        "  T_i = np.where(F_i != i, 0, array_dist)\n",
        "  M_i = T_i.min()\n",
        "  gate_coord = find_closest_nonzero_element(T_i, M, M_i)\n",
        "  coordinates_i = find_coordinates(T_i)\n",
        "  coordinates.append(gate_coord)\n",
        "  H_i = ((coordinates_i[0] - 2)  * voxel_resolution-1 + origin[0],\n",
        "           (coordinates_i[1] - 2) * voxel_resolution + origin[1],\n",
        "           (coordinates_i[2] - 2) * voxel_resolution + origin[2])\n",
        "  X_list.append(H_i)\n",
        "  E_i = ((gate_coord[0] - 2) * voxel_resolution + origin[0],\n",
        "           (gate_coord[1] - 2) * voxel_resolution + origin[1],\n",
        "           (gate_coord[2] - 2) * voxel_resolution + origin[2])\n",
        "  E_list.append(E_i)\n",
        "print(X_list)\n",
        "print(E_list)\n",
        "print(coordinates)"
      ],
      "metadata": {
        "colab": {
          "base_uri": "https://localhost:8080/"
        },
        "id": "4i2cf7P3rY8l",
        "outputId": "5cb1b2e3-3584-4d2d-b730-e253cf42e1b9"
      },
      "execution_count": 20,
      "outputs": [
        {
          "output_type": "stream",
          "name": "stdout",
          "text": [
            "[(2.033267822265625, 116.78081115722655, 56.11545471191406), (2.033267822265625, 125.88061462402344, 56.11545471191406), (36.157530822753905, 6.06653564453125, 97.0645703125), (36.157530822753905, 21.232874755859374, 97.0645703125), (37.67416473388672, 23.50782562255859, 61.423673400878904), (56.63208862304687, 115.26417724609374, 83.41486511230468), (58.90703948974609, 7.583169555664062, 26.541093444824217), (77.10664642333984, 27.299410400390624, 95.54793640136718), (61.18199035644531, 49.290602111816405, 31.090995178222656), (61.94030731201172, 56.87377166748047, 87.96476684570312), (75.59001251220702, 53.84050384521484, 86.44813293457031), (75.59001251220702, 66.73189208984374, 28.816044311523434), (75.59001251220702, 66.73189208984374, 87.20644989013671), (92.27298553466797, 80.38159729003905, 101.61447204589844), (99.09783813476562, 3.033267822265625, 72.798427734375), (100.61447204589844, 5.3082186889648435, 97.0645703125), (100.61447204589844, 21.232874755859374, 97.0645703125)]\n",
            "[(0.0, 116.78081115722655, 64.45694122314453), (0.0, 125.88061462402344, 64.45694122314453), (37.91584777832031, 31.849312133789063, 98.58120422363281), (37.91584777832031, 31.849312133789063, 98.58120422363281), (37.157530822753905, 31.090995178222656, 64.45694122314453), (46.257334289550776, 112.98922637939452, 73.5567446899414), (59.90703948974609, 0.0, 32.60762908935547), (97.0645703125, 29.57436126708984, 98.58120422363281), (69.76515991210937, 56.87377166748047, 32.60762908935547), (41.70743255615234, 53.08218688964843, 98.58120422363281), (97.0645703125, 53.84050384521484, 98.58120422363281), (72.798427734375, 62.94030731201172, 32.60762908935547), (97.0645703125, 66.73189208984374, 98.58120422363281), (97.0645703125, 80.38159729003905, 100.85615509033202), (100.09783813476562, 0.0, 64.45694122314453), (106.92269073486328, 6.824852600097656, 98.58120422363281), (103.13110595703125, 16.682973022460935, 98.58120422363281)]\n",
            "[(2, 156, 87), (2, 168, 87), (52, 44, 132), (52, 44, 132), (51, 43, 87), (63, 151, 99), (81, 2, 45), (130, 41, 132), (94, 77, 45), (57, 72, 132), (130, 73, 132), (98, 85, 45), (130, 90, 132), (130, 108, 135), (134, 2, 87), (143, 11, 132), (138, 24, 132)]\n"
          ]
        }
      ]
    },
    {
      "cell_type": "code",
      "source": [
        "def get_values_at_positions(array, coordinates_list):\n",
        "    values = [array[x, y, z] for x, y, z in coordinates_list]\n",
        "    return values\n",
        "\n",
        "# Get values at specified positions\n",
        "values_at_positions = get_values_at_positions(M, coordinates)\n",
        "locations = []\n",
        "# Display the results\n",
        "for i, position in enumerate(coordinates):\n",
        "    locations.append(values_at_positions[i])\n",
        "print(locations)"
      ],
      "metadata": {
        "colab": {
          "base_uri": "https://localhost:8080/"
        },
        "id": "P-IXjOInOhH1",
        "outputId": "6d4f52b0-b327-422e-ddfc-524255823fce"
      },
      "execution_count": 21,
      "outputs": [
        {
          "output_type": "stream",
          "name": "stdout",
          "text": [
            "[7, 7, 3, 3, 7, 4, 8, 3, 8, 3, 3, 8, 3, 3, 7, 3, 3]\n"
          ]
        }
      ]
    },
    {
      "cell_type": "code",
      "source": [
        "def count_consecutive_ones(matrix):\n",
        "    row_count = []\n",
        "    col_count = []\n",
        "\n",
        "    # Count consecutive ones in each row\n",
        "    for row in matrix:\n",
        "        count = 0\n",
        "        max_count = 0\n",
        "        for element in row:\n",
        "            if element == thickness:\n",
        "                count += 1\n",
        "                max_count = max(max_count, count)\n",
        "            else:\n",
        "                count = 0\n",
        "        row_count.append(max_count)\n",
        "\n",
        "    # Count consecutive ones in each column\n",
        "    for col in range(len(matrix[0])):\n",
        "        count = 0\n",
        "        max_count = 0\n",
        "        for row in matrix:\n",
        "            if row[col] == thickness:\n",
        "                count += 1\n",
        "                max_count = max(max_count, count)\n",
        "            else:\n",
        "                count = 0\n",
        "        col_count.append(max_count)\n",
        "\n",
        "    return row_count, col_count"
      ],
      "metadata": {
        "id": "0sSOK8nLVxfj"
      },
      "execution_count": 22,
      "outputs": []
    },
    {
      "cell_type": "code",
      "source": [
        "# List to store the resulting arrays\n",
        "result_arrays = []\n",
        "max_size = []\n",
        "# Extracting arrays based on the random indices\n",
        "for index in coordinates:\n",
        "    result_array = M[index[0], :, :]\n",
        "    result_arrays.append(result_array)\n",
        "# Printing the results\n",
        "for i, result_array in enumerate(result_arrays, 1):\n",
        "    thickness = locations[i - 1]\n",
        "\n",
        "    row_count, col_count = count_consecutive_ones(result_array)\n",
        "    max_size.append((max(row_count), max(col_count)))\n",
        "\n",
        "print(max_size)"
      ],
      "metadata": {
        "colab": {
          "base_uri": "https://localhost:8080/"
        },
        "id": "NU2d_l3D69iV",
        "outputId": "a9f3a170-c1fb-4330-fb82-08195862ad58"
      },
      "execution_count": 23,
      "outputs": [
        {
          "output_type": "stream",
          "name": "stdout",
          "text": [
            "[(1, 21), (1, 21), (4, 28), (4, 28), (1, 1), (1, 10), (1, 1), (4, 81), (1, 1), (4, 1), (4, 81), (1, 1), (4, 81), (4, 81), (1, 1), (4, 29), (4, 1)]\n"
          ]
        }
      ]
    },
    {
      "cell_type": "code",
      "source": [
        "for index in max_size:\n",
        "    Q = gate_size / (index[0] * (voxel_resolution * unit) ** 2)\n",
        "\n",
        "print(Q)"
      ],
      "metadata": {
        "colab": {
          "base_uri": "https://localhost:8080/"
        },
        "id": "Rp8IBr8r_CL0",
        "outputId": "d59cafdb-c053-46f3-9f01-65e2b36191e5"
      },
      "execution_count": 24,
      "outputs": [
        {
          "output_type": "stream",
          "name": "stdout",
          "text": [
            "[ 0.65103375  0.65277415  0.74924201  1.11932555  2.57479685  2.67499414\n",
            " 12.99904439  1.97249428 12.36578757  4.6969655   4.7362488   2.08387986\n",
            "  2.05143384  2.2071996   1.72249832  0.63959684  1.65163919]\n"
          ]
        }
      ]
    },
    {
      "cell_type": "code",
      "source": [
        "W = (gate_size / ( (voxel_resolution * unit) ** 2)) ** 0.5\n",
        "print(W)"
      ],
      "metadata": {
        "colab": {
          "base_uri": "https://localhost:8080/"
        },
        "id": "7UPEzjoqhJsd",
        "outputId": "998b432a-5dbe-4986-9cc6-613aac2f7d4c"
      },
      "execution_count": 25,
      "outputs": [
        {
          "output_type": "stream",
          "name": "stdout",
          "text": [
            "[1.61373325 1.6158888  1.73117534 2.11596366 3.20923471 3.27108186\n",
            " 7.21083751 2.80891031 7.03300436 4.33449674 4.35258489 2.88712996\n",
            " 2.86456547 2.9713294  2.62487967 1.59949597 2.57032231]\n"
          ]
        }
      ]
    },
    {
      "cell_type": "code",
      "source": [
        "new_value =  max_boundary_size * 0.01"
      ],
      "metadata": {
        "id": "Yvns53qaW28X"
      },
      "execution_count": 30,
      "outputs": []
    },
    {
      "cell_type": "code",
      "source": [
        "for i in range(len(max_size)):\n",
        "    if Q[i] > W[i]:\n",
        "        max_index = max_size[i].index(max(max_size[i]))\n",
        "        max_size[i] = tuple(val if j != max_index else Q[i] for j, val in enumerate(max_size[i]))\n",
        "\n",
        "        # Display the result\n",
        "\n",
        "\n",
        "        cuboid_sizes = [(item[0] * voxel_resolution, item[1]* voxel_resolution, new_value* voxel_resolution) for item in max_size]\n",
        "\n",
        "    else:\n",
        "        #replace_value = max_size[i]  # The value you want to replace in max_size[i]\n",
        "        max_size[i] = tuple(W[i] for val in max_size[i])\n",
        "\n",
        "        # Display the result\n",
        "\n",
        "        cuboid_sizes = [(item[0] * voxel_resolution, item[1] * voxel_resolution, new_value * voxel_resolution) for item in max_size]\n",
        "print(cuboid_sizes)"
      ],
      "metadata": {
        "colab": {
          "base_uri": "https://localhost:8080/"
        },
        "id": "PhlHLsTzmCly",
        "outputId": "3875523b-8c3a-4ae6-fbd5-28ffb438f024"
      },
      "execution_count": 31,
      "outputs": [
        {
          "output_type": "stream",
          "name": "stdout",
          "text": [
            "[(1.2237212880117119, 1.2237212880117119, 1.150089210199006), (1.2253558749470204, 1.2253558749470204, 1.150089210199006), (1.312779613813728, 1.312779613813728, 1.150089210199006), (1.6045711203876132, 1.6045711203876132, 1.150089210199006), (2.433617092063855, 2.433617092063855, 1.150089210199006), (2.4805168400889346, 2.4805168400889346, 1.150089210199006), (9.857395766694202, 0.7583169555664062, 1.150089210199006), (2.130044315738069, 2.130044315738069, 1.150089210199006), (9.37718638663242, 0.7583169555664062, 1.150089210199006), (3.561788576143364, 0.7583169555664062, 1.150089210199006), (3.033267822265625, 3.591577772079666, 1.150089210199006), (2.1893596043575543, 2.1893596043575543, 1.150089210199006), (2.1722485679308736, 2.1722485679308736, 1.150089210199006), (2.253209463006663, 2.253209463006663, 1.150089210199006), (1.9904907583122062, 1.9904907583122062, 1.150089210199006), (1.2129249168000653, 1.2129249168000653, 1.150089210199006), (1.9491189876181705, 1.9491189876181705, 1.150089210199006)]\n"
          ]
        }
      ]
    },
    {
      "cell_type": "code",
      "source": [
        "# Step 1\n",
        "for i in range(len(max_size)):\n",
        "    max_index = max_size[i].index(max(max_size[i]))\n",
        "    max_size[i] = tuple(val if j != max_index else Q[i] for j, val in enumerate(max_size[i]))\n",
        "\n",
        "# Display the result\n",
        "print(max_size)\n",
        "new_value =  max_boundary_size * 0.01\n",
        "\n",
        "cuboid_sizes = [(item[0] * voxel_resolution, item[1]* voxel_resolution, new_value* voxel_resolution) for item in max_size]\n",
        "\n",
        "print(cuboid_sizes)"
      ],
      "metadata": {
        "colab": {
          "base_uri": "https://localhost:8080/"
        },
        "id": "tAS049fjMFwC",
        "outputId": "9711fa37-65ed-416a-84b2-47345d34538b"
      },
      "execution_count": 32,
      "outputs": [
        {
          "output_type": "stream",
          "name": "stdout",
          "text": [
            "[(0.6510337534920114, 1.6137332536599862), (0.6527741530621638, 1.61588879946878), (0.7492420149506116, 1.7311753405713837), (1.11932555211802, 2.115963659534842), (2.5747968497854767, 3.209234706147543), (2.6749941393242507, 3.271081863435552), (12.999044389468335, 1), (1.9724942842577324, 2.8089103113184177), (12.36578757444288, 1), (4.696965497076317, 1), (4, 4.736248801659756), (2.0838798567474863, 2.88712996364728), (2.0514338361896454, 2.8645654722415723), (2.2071995977182857, 2.9713293979081388), (1.7224983174308401, 2.6248796676654265), (0.63959684203101, 1.5994959731503047), (1.651639192074635, 2.5703223082521265)]\n",
            "[(0.49368993391903226, 1.2237212880117119, 1.150089210199006), (0.49500970842253933, 1.2253558749470204, 1.150089210199006), (0.5681629237597876, 1.312779613813728, 1.150089210199006), (0.8488035449698238, 1.6045711203876132, 1.150089210199006), (1.952512108331296, 2.433617092063855, 1.150089210199006), (2.028493411890345, 2.4805168400889346, 1.150089210199006), (9.857395766694202, 0.7583169555664062, 1.150089210199006), (1.4957758605104612, 2.130044315738069, 1.150089210199006), (9.37718638663242, 0.7583169555664062, 1.150089210199006), (3.561788576143364, 0.7583169555664062, 1.150089210199006), (3.033267822265625, 3.591577772079666, 1.150089210199006), (1.5802414287349125, 2.1893596043575543, 1.150089210199006), (1.5556370612052455, 2.1722485679308736, 1.150089210199006), (1.6737568792691269, 2.253209463006663, 1.150089210199006), (1.3061996800424118, 1.9904907583122062, 1.150089210199006), (0.4850171300388431, 1.2129249168000653, 1.150089210199006), (1.252466003828196, 1.9491189876181705, 1.150089210199006)]\n"
          ]
        }
      ]
    },
    {
      "cell_type": "markdown",
      "source": [
        "# Gate generated"
      ],
      "metadata": {
        "id": "AKROsYWAz6TT"
      }
    },
    {
      "cell_type": "code",
      "source": [
        "# Function to calculate rotation matrix\n",
        "def calculate_rotation_matrix(v, w):\n",
        "    cos_theta = np.dot(v, w) / (np.linalg.norm(v) * np.linalg.norm(w))\n",
        "    sin_theta = np.sqrt(1 - cos_theta**2)\n",
        "    theta = np.arccos(cos_theta)\n",
        "\n",
        "    u = np.cross(v, w) / np.linalg.norm(np.cross(v, w))\n",
        "\n",
        "    # Rotation matrix formula\n",
        "    R = np.array([\n",
        "        [cos_theta + u[0]**2 * (1 - cos_theta), u[0]*u[1]*(1 - cos_theta) - u[2]*sin_theta, u[0]*u[2]*(1 - cos_theta) + u[1]*sin_theta],\n",
        "        [u[1]*u[0]*(1 - cos_theta) + u[2]*sin_theta, cos_theta + u[1]**2 * (1 - cos_theta), u[1]*u[2]*(1 - cos_theta) - u[0]*sin_theta],\n",
        "        [u[2]*u[0]*(1 - cos_theta) - u[1]*sin_theta, u[2]*u[1]*(1 - cos_theta) + u[0]*sin_theta, cos_theta + u[2]**2 * (1 - cos_theta)]\n",
        "    ])\n",
        "\n",
        "    return R\n",
        "\n",
        "# Function to create cuboid vertices\n",
        "def create_cuboid(cuboid_size):\n",
        "    vertices = np.array([\n",
        "        [-0.5, -0.5, 0] * cuboid_size,\n",
        "        [0.5, -0.5, 0] * cuboid_size,\n",
        "        [0.5, 0.5, 0] * cuboid_size,\n",
        "        [-0.5, 0.5, 0] * cuboid_size,\n",
        "        [-0.5, -0.5, 2] * cuboid_size,\n",
        "        [0.5, -0.5, 2] * cuboid_size,\n",
        "        [0.5, 0.5, 2] * cuboid_size,\n",
        "        [-0.5, 0.5, 2] * cuboid_size\n",
        "    ])\n",
        "    return vertices\n",
        "\n",
        "# Initialize an empty list to store all meshes\n",
        "all_cuboid_meshes = []\n",
        "\n",
        "# Iterate through each pair of points\n",
        "for point_A, point_B, cuboid_size  in zip(X_list, E_list, cuboid_sizes):\n",
        "    # Assuming point_A and point_B are lists with 3 coordinates\n",
        "    point_A = np.array(point_A)\n",
        "    point_B = np.array(point_B)\n",
        "    # Define cuboid size\n",
        "    cuboid_size = np.array(cuboid_size)\n",
        "    # Original direction vector\n",
        "    original_direction = np.array([0, 0, 1])\n",
        "\n",
        "    # Target direction vector\n",
        "    target_direction = (point_B - point_A) * np.array([1, 1, 0])\n",
        "\n",
        "    # Calculate rotation matrix\n",
        "    rotation_matrix = calculate_rotation_matrix(original_direction, target_direction)\n",
        "\n",
        "    # Create cuboid\n",
        "    cuboid_vertices = create_cuboid(cuboid_size)\n",
        "\n",
        "    # Apply rotation matrix to cuboid vertices\n",
        "    rotated_vertices = point_B + np.dot(cuboid_vertices, rotation_matrix.T)\n",
        "\n",
        "    # Define faces for the cuboid\n",
        "    faces = np.array([\n",
        "        [0, 1, 2],\n",
        "        [0, 2, 3],\n",
        "        [4, 6, 5],\n",
        "        [4, 7, 6],\n",
        "        [0, 4, 5],\n",
        "        [0, 5, 1],\n",
        "        [2, 6, 7],\n",
        "        [2, 7, 3],\n",
        "        [0, 3, 7],\n",
        "        [0, 7, 4],\n",
        "        [1, 5, 6],\n",
        "        [1, 6, 2]\n",
        "    ])\n",
        "\n",
        "    # Create STL mesh using faces\n",
        "    cuboid_mesh = mesh.Mesh(np.zeros(len(faces), dtype=mesh.Mesh.dtype))\n",
        "    for i, face in enumerate(faces):\n",
        "        cuboid_mesh.vectors[i] = rotated_vertices[face]\n",
        "\n",
        "    # Append the current mesh to the list\n",
        "    all_cuboid_meshes.append(cuboid_mesh)\n",
        "\n",
        "# Combine all meshes into a single mesh\n",
        "combined_mesh = mesh.Mesh(np.concatenate([mesh.data for mesh in all_cuboid_meshes]))\n",
        "\n",
        "# Save the single STL file\n",
        "combined_mesh.save('all_gate.stl')\n"
      ],
      "metadata": {
        "id": "xMtDwwB2IIIR"
      },
      "execution_count": 33,
      "outputs": []
    },
    {
      "cell_type": "code",
      "source": [
        "bpy.ops.wm.read_factory_settings(use_empty=True)\n",
        "bpy.ops.import_mesh.stl(filepath=filename)\n",
        "obj = bpy.context.object\n",
        "obj.select_set(True)\n",
        "bpy.context.view_layer.objects.active = obj\n",
        "obj.color = (0,0,1,1)\n",
        "mat = bpy.data.materials.new(\"0\")\n",
        "mat.use_nodes = True\n",
        "principled = mat.node_tree.nodes[\"Principled BSDF\"]\n",
        "principled.inputs[\"Base Color\"].default_value = (1,1,1,1)\n",
        "principled.inputs[\"Alpha\"].default_value = 0.7\n",
        "obj.data.materials.append(mat)\n",
        "bpy.context.object.active_material.blend_method = \"BLEND\"\n",
        "bpy.ops.import_mesh.stl(filepath=\"//content//all_gate.stl\")\n",
        "obj = bpy.context.object\n",
        "obj.color = (0,0,1,1)\n",
        "mat = bpy.data.materials.new(\"0\")\n",
        "mat.use_nodes = True\n",
        "principled = mat.node_tree.nodes[\"Principled BSDF\"]\n",
        "principled.inputs[\"Base Color\"].default_value = (0,1,0,1)\n",
        "obj.data.materials.append(mat)\n",
        "bpy.ops.export_scene.gltf(filepath=\"//content//colored_gating.glb\")"
      ],
      "metadata": {
        "id": "fXjOBD0BtPfq"
      },
      "execution_count": null,
      "outputs": []
    }
  ]
}